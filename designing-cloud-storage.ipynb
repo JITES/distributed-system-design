{
 "cells": [
  {
   "cell_type": "markdown",
   "metadata": {},
   "source": [
    "## Designing a Cloud Storage Service like Dropbox or Google Drive\n",
    "Cloud file storage enables uses to store their data on remote servers.\n",
    "\n",
    "Why cloud storage?\n",
    "1. **Availability:** Users can access their files from any devices, anywhere, anytime.\n",
    "2. **Durability and Reliability:** Cloud storage ensures that users never lose their data by storing their data on different geographically located servers.\n",
    "3. **Scalability:** Users will never have to worry about running out of storage space, as long as they are ready to pay for it.\n",
    "\n"
   ]
  },
  {
   "cell_type": "code",
   "execution_count": null,
   "metadata": {},
   "outputs": [],
   "source": []
  }
 ],
 "metadata": {
  "kernelspec": {
   "display_name": "Python 3",
   "language": "python",
   "name": "python3"
  },
  "language_info": {
   "codemirror_mode": {
    "name": "ipython",
    "version": 3
   },
   "file_extension": ".py",
   "mimetype": "text/x-python",
   "name": "python",
   "nbconvert_exporter": "python",
   "pygments_lexer": "ipython3",
   "version": "3.7.6"
  }
 },
 "nbformat": 4,
 "nbformat_minor": 4
}
