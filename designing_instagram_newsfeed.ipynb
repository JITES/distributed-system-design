{
 "cells": [
  {
   "cell_type": "markdown",
   "metadata": {},
   "source": [
    "# Designing Instagram Feed\n",
    "\n",
    "A feed is a constantly updating scrollable list of posts, photos, videos, and status updates from all the people and pages a user follows.\n"
   ]
  },
  {
   "cell_type": "markdown",
   "metadata": {},
   "source": [
    "## 1. Requirements and System Goals\n",
    "\n",
    "### Functional requirements\n",
    "1. Feeds may contain images, videos and text.\n",
    "2. Feeds are generated from the posts belonging to the people the user follows.\n",
    "3. The service should support appending new posts as they arrive to the feed for all active users\n",
    "\n",
    "### Non-functional requirements \n",
    "1. The system should be able to generate a user's newsfeed in real-time - maximum latency seen by the end user shoudl be about 2s."
   ]
  },
  {
   "cell_type": "code",
   "execution_count": null,
   "metadata": {},
   "outputs": [],
   "source": []
  }
 ],
 "metadata": {
  "kernelspec": {
   "display_name": "Python 3",
   "language": "python",
   "name": "python3"
  },
  "language_info": {
   "codemirror_mode": {
    "name": "ipython",
    "version": 3
   },
   "file_extension": ".py",
   "mimetype": "text/x-python",
   "name": "python",
   "nbconvert_exporter": "python",
   "pygments_lexer": "ipython3",
   "version": "3.8.2"
  }
 },
 "nbformat": 4,
 "nbformat_minor": 4
}
