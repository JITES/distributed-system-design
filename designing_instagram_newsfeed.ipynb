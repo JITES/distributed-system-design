{
 "cells": [
  {
   "cell_type": "markdown",
   "metadata": {},
   "source": [
    "# Designing Instagram Feed\n",
    "\n",
    "A feed is a constantly updating scrollable list of posts, photos, videos, and status updates from all the people and pages a user follows.\n"
   ]
  },
  {
   "cell_type": "markdown",
   "metadata": {},
   "source": [
    "## 1. Requirements and System Goals\n",
    "\n",
    "### Functional requirements\n",
    "1. Feeds may contain images, videos and text.\n",
    "2. Feeds are generated from the posts belonging to the pages and people the user follows.\n",
    "3. The service should support appending new posts as they arrive to the feed for all active users\n",
    "\n",
    "### Non-functional requirements \n",
    "1. The system should be able to generate a user's newsfeed in real-time - maximum latency seen by the end user shoudl be about 2s."
   ]
  },
  {
   "cell_type": "markdown",
   "metadata": {},
   "source": [
    "## 2. Capacity Estimation and Constraints\n",
    "Assume on average a user has 300 friends and follows 200 pages.\n",
    "\n",
    "**Traffic Estimates:** A typical user checks their feed about 5 times per day on average. If we have 200 million daily active users, then:\n",
    "\n",
    "```text\n",
    "Per day: 200M * 5 => 1B requests\n",
    "\n",
    "Per second:   1B / 86400 sec => 11500 reqs/sec \n",
    "```\n",
    "\n",
    "**Storage estimates:** Assume we have on average 500 posts for each user's feed that we want to keep in memory for fast fetching. \n",
    "Let's also assume on average that each post would be about 100KB in size (gifs, photos and videos combined). This means we need about 100KB X 500 = 5 MB per user. \n",
    "To store all this data for all active users, we'll need:\n",
    "\n",
    "```text\n",
    "    200 M active users * 5MB  ~= 1 Petabyte of memory\n",
    "```\n",
    "\n",
    "If a server can hold 100 GB memory, we'd need about 10000 machines to keep the top 500 posts in memory.\n"
   ]
  },
  {
   "cell_type": "markdown",
   "metadata": {},
   "source": [
    "## 3. System APIs\n",
    "> By defining the system APIs, you are explicitly stating what is expected from the system\n",
    "\n",
    "We'll have REST APIs to expose our service's functionality.\n",
    "\n",
    "**Getting User Feed**\n",
    "\n",
    "```python\n",
    "getUserFeed(\n",
    "    api_dev_key: int,  # Key of a registered user, used to throttle users based on their allocated quota.\n",
    "    user_id: int,  # The Id of the user whom the system will generate the feed.\n",
    "    since_id: int,  # (Optional) Return results with IDs more recent than this ID.\n",
    "    count: int ,   # (Optional) Specifies number of feed items to try and retrieve.\n",
    "    max_id: int,   # (Optional) Returns results with IDs younger than the specified ID.\n",
    "    exclude_replies  # (Optional) Prevents replies from appearing in the results.\n",
    "```\n",
    "\n",
    "**Returns:** (JSON) object containing a list of feed items. "
   ]
  },
  {
   "cell_type": "markdown",
   "metadata": {},
   "source": [
    "## 4. Database Design\n",
    "There are three major objects: User, Entity (Business Accounts, Brands, Pages etc) and Post (A feed item). \n",
    "    * A user follows entities and other users.\n",
    "    * Users and entities can both post a Post which can contain text, images, or videos\n",
    "    * Each Post has a UserID of the user who created it. \n",
    "    * For simplicity, let's assume only users can create a post.\n",
    "    * A Post can optionally have an EntityID that points to the page or business entity where the post was created.\n",
    "\n",
    "If we use a relational DB, we can model two relations: User-to-Entity and Post-to-Media relation. Since each user can be friends with many people and follow a lot of entities, we can store this relation in a separate table. \n",
    "\n",
    "| Users |                      |\n",
    "|:----:|:-----------------------|\n",
    "|PK   |  **UserID: int**         |\n",
    "|     | Name: varchar(32)       |\n",
    "|     | Email: varchar(32)      |\n",
    "|     | DOB: datetime           |\n",
    "|     | CreatedAt: datetime  |\n",
    "|     | LastLogin: datetime     |\n",
    "\n",
    "&nbsp;\n",
    "\n",
    " | Entity |                      |\n",
    "|:----:|:-----------------------|\n",
    "|PK   |  **EntityID: int**         |\n",
    "|     | Name: varchar(32)       |\n",
    "|     | Type: int               |\n",
    "|     | Email: varchar(32)           |\n",
    "|     | Description: varchar(512)      |\n",
    "|     | Phone: varchar(12)           |\n",
    "|     | CreatedAt: datetime  |\n",
    "|     | LastLogin: datetime     |\n",
    "\n",
    "\n",
    "&nbsp;\n",
    "\n",
    "| UserFollow |                      |\n",
    "|:----:|:-----------------------|\n",
    "|PK   |  (**UserID, EntityOrFriendID: int**)          |\n",
    "|     |  Type: int |\n",
    "\n",
    "The **Type** column above identifies if an entity being followed is a user or an entity.\n",
    "We can also have a table for the Media to Post relation.\n",
    "\n",
    "&nbsp;\n",
    "\n",
    "| Post |                      |\n",
    "|:----:|:-----------------------|\n",
    "|PK   |  **PostID: int**         |\n",
    "|     | UserID: int |\n",
    "|     | Contents: varchar(256)      |\n",
    "|     | EntityID: int           |\n",
    "|     | Latitute: int           |\n",
    "|     | Longitude: int  |\n",
    "|     | CreatedAt: datetime     |\n",
    "|    |  Likes: int         |\n",
    "\n",
    "&nbsp;\n",
    "\n",
    "| Media |                      |\n",
    "|:----:|:-----------------------|\n",
    "|     | MediaID: int |\n",
    "|     | Type: smallint |\n",
    "|     | Description: varchar(256)      |\n",
    "|     | Path: int           |\n",
    "|     | Latitute: int           |\n",
    "|     | Longitude: int  |\n",
    "|     | CreatedAt: datetime     |\n",
    "\n",
    "&nbsp;\n",
    "\n",
    "| PostMedia |                      |\n",
    "|:----:|:-----------------------|\n",
    "|PK   |  (**PostID, MediaID: int**)          |\n",
    "\n"
   ]
  },
  {
   "cell_type": "markdown",
   "metadata": {},
   "source": [
    "## 5. High Level System Design\n",
    "\n"
   ]
  }
 ],
 "metadata": {
  "kernelspec": {
   "display_name": "Python 3",
   "language": "python",
   "name": "python3"
  },
  "language_info": {
   "codemirror_mode": {
    "name": "ipython",
    "version": 3
   },
   "file_extension": ".py",
   "mimetype": "text/x-python",
   "name": "python",
   "nbconvert_exporter": "python",
   "pygments_lexer": "ipython3",
   "version": "3.8.2"
  }
 },
 "nbformat": 4,
 "nbformat_minor": 4
}
